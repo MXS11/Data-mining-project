{
 "cells": [
  {
   "cell_type": "markdown",
   "metadata": {
    "papermill": {
     "duration": 0.019741,
     "end_time": "2021-01-10T13:42:12.075073",
     "exception": false,
     "start_time": "2021-01-10T13:42:12.055332",
     "status": "completed"
    },
    "tags": []
   },
   "source": [
    "# DATA MINING PROJECT"
   ]
  },
  {
   "cell_type": "code",
   "execution_count": 1,
   "metadata": {
    "execution": {
     "iopub.execute_input": "2021-01-10T13:42:12.111570Z",
     "iopub.status.busy": "2021-01-10T13:42:12.110887Z",
     "iopub.status.idle": "2021-01-10T13:42:12.158594Z",
     "shell.execute_reply": "2021-01-10T13:42:12.159182Z"
    },
    "papermill": {
     "duration": 0.068022,
     "end_time": "2021-01-10T13:42:12.159387",
     "exception": false,
     "start_time": "2021-01-10T13:42:12.091365",
     "status": "completed"
    },
    "tags": []
   },
   "outputs": [
    {
     "data": {
      "text/html": [
       "<div>\n",
       "<style scoped>\n",
       "    .dataframe tbody tr th:only-of-type {\n",
       "        vertical-align: middle;\n",
       "    }\n",
       "\n",
       "    .dataframe tbody tr th {\n",
       "        vertical-align: top;\n",
       "    }\n",
       "\n",
       "    .dataframe thead th {\n",
       "        text-align: right;\n",
       "    }\n",
       "</style>\n",
       "<table border=\"1\" class=\"dataframe\">\n",
       "  <thead>\n",
       "    <tr style=\"text-align: right;\">\n",
       "      <th></th>\n",
       "      <th>PassengerId</th>\n",
       "      <th>Survived</th>\n",
       "      <th>Pclass</th>\n",
       "      <th>Name</th>\n",
       "      <th>Sex</th>\n",
       "      <th>Age</th>\n",
       "      <th>SibSp</th>\n",
       "      <th>Parch</th>\n",
       "      <th>Ticket</th>\n",
       "      <th>Fare</th>\n",
       "      <th>Cabin</th>\n",
       "      <th>Embarked</th>\n",
       "    </tr>\n",
       "  </thead>\n",
       "  <tbody>\n",
       "    <tr>\n",
       "      <th>0</th>\n",
       "      <td>1</td>\n",
       "      <td>0</td>\n",
       "      <td>3</td>\n",
       "      <td>Braund, Mr. Owen Harris</td>\n",
       "      <td>male</td>\n",
       "      <td>22.0</td>\n",
       "      <td>1</td>\n",
       "      <td>0</td>\n",
       "      <td>A/5 21171</td>\n",
       "      <td>7.2500</td>\n",
       "      <td>NaN</td>\n",
       "      <td>S</td>\n",
       "    </tr>\n",
       "    <tr>\n",
       "      <th>1</th>\n",
       "      <td>2</td>\n",
       "      <td>1</td>\n",
       "      <td>1</td>\n",
       "      <td>Cumings, Mrs. John Bradley (Florence Briggs Th...</td>\n",
       "      <td>female</td>\n",
       "      <td>38.0</td>\n",
       "      <td>1</td>\n",
       "      <td>0</td>\n",
       "      <td>PC 17599</td>\n",
       "      <td>71.2833</td>\n",
       "      <td>C85</td>\n",
       "      <td>C</td>\n",
       "    </tr>\n",
       "    <tr>\n",
       "      <th>2</th>\n",
       "      <td>3</td>\n",
       "      <td>1</td>\n",
       "      <td>3</td>\n",
       "      <td>Heikkinen, Miss. Laina</td>\n",
       "      <td>female</td>\n",
       "      <td>26.0</td>\n",
       "      <td>0</td>\n",
       "      <td>0</td>\n",
       "      <td>STON/O2. 3101282</td>\n",
       "      <td>7.9250</td>\n",
       "      <td>NaN</td>\n",
       "      <td>S</td>\n",
       "    </tr>\n",
       "    <tr>\n",
       "      <th>3</th>\n",
       "      <td>4</td>\n",
       "      <td>1</td>\n",
       "      <td>1</td>\n",
       "      <td>Futrelle, Mrs. Jacques Heath (Lily May Peel)</td>\n",
       "      <td>female</td>\n",
       "      <td>35.0</td>\n",
       "      <td>1</td>\n",
       "      <td>0</td>\n",
       "      <td>113803</td>\n",
       "      <td>53.1000</td>\n",
       "      <td>C123</td>\n",
       "      <td>S</td>\n",
       "    </tr>\n",
       "    <tr>\n",
       "      <th>4</th>\n",
       "      <td>5</td>\n",
       "      <td>0</td>\n",
       "      <td>3</td>\n",
       "      <td>Allen, Mr. William Henry</td>\n",
       "      <td>male</td>\n",
       "      <td>35.0</td>\n",
       "      <td>0</td>\n",
       "      <td>0</td>\n",
       "      <td>373450</td>\n",
       "      <td>8.0500</td>\n",
       "      <td>NaN</td>\n",
       "      <td>S</td>\n",
       "    </tr>\n",
       "  </tbody>\n",
       "</table>\n",
       "</div>"
      ],
      "text/plain": [
       "   PassengerId  Survived  Pclass  \\\n",
       "0            1         0       3   \n",
       "1            2         1       1   \n",
       "2            3         1       3   \n",
       "3            4         1       1   \n",
       "4            5         0       3   \n",
       "\n",
       "                                                Name     Sex   Age  SibSp  \\\n",
       "0                            Braund, Mr. Owen Harris    male  22.0      1   \n",
       "1  Cumings, Mrs. John Bradley (Florence Briggs Th...  female  38.0      1   \n",
       "2                             Heikkinen, Miss. Laina  female  26.0      0   \n",
       "3       Futrelle, Mrs. Jacques Heath (Lily May Peel)  female  35.0      1   \n",
       "4                           Allen, Mr. William Henry    male  35.0      0   \n",
       "\n",
       "   Parch            Ticket     Fare Cabin Embarked  \n",
       "0      0         A/5 21171   7.2500   NaN        S  \n",
       "1      0          PC 17599  71.2833   C85        C  \n",
       "2      0  STON/O2. 3101282   7.9250   NaN        S  \n",
       "3      0            113803  53.1000  C123        S  \n",
       "4      0            373450   8.0500   NaN        S  "
      ]
     },
     "execution_count": 1,
     "metadata": {},
     "output_type": "execute_result"
    }
   ],
   "source": [
    "import pandas as pd\n",
    "import numpy as np\n",
    "\n",
    "mytrainset = pd.read_csv('../input/titanic/train.csv') \n",
    "mytrainset.head()\n",
    "# import and view preview of train set"
   ]
  },
  {
   "cell_type": "code",
   "execution_count": 2,
   "metadata": {
    "execution": {
     "iopub.execute_input": "2021-01-10T13:42:12.204819Z",
     "iopub.status.busy": "2021-01-10T13:42:12.203938Z",
     "iopub.status.idle": "2021-01-10T13:42:12.226580Z",
     "shell.execute_reply": "2021-01-10T13:42:12.227044Z"
    },
    "papermill": {
     "duration": 0.048576,
     "end_time": "2021-01-10T13:42:12.227187",
     "exception": false,
     "start_time": "2021-01-10T13:42:12.178611",
     "status": "completed"
    },
    "tags": []
   },
   "outputs": [
    {
     "data": {
      "text/html": [
       "<div>\n",
       "<style scoped>\n",
       "    .dataframe tbody tr th:only-of-type {\n",
       "        vertical-align: middle;\n",
       "    }\n",
       "\n",
       "    .dataframe tbody tr th {\n",
       "        vertical-align: top;\n",
       "    }\n",
       "\n",
       "    .dataframe thead th {\n",
       "        text-align: right;\n",
       "    }\n",
       "</style>\n",
       "<table border=\"1\" class=\"dataframe\">\n",
       "  <thead>\n",
       "    <tr style=\"text-align: right;\">\n",
       "      <th></th>\n",
       "      <th>PassengerId</th>\n",
       "      <th>Pclass</th>\n",
       "      <th>Name</th>\n",
       "      <th>Sex</th>\n",
       "      <th>Age</th>\n",
       "      <th>SibSp</th>\n",
       "      <th>Parch</th>\n",
       "      <th>Ticket</th>\n",
       "      <th>Fare</th>\n",
       "      <th>Cabin</th>\n",
       "      <th>Embarked</th>\n",
       "    </tr>\n",
       "  </thead>\n",
       "  <tbody>\n",
       "    <tr>\n",
       "      <th>0</th>\n",
       "      <td>892</td>\n",
       "      <td>3</td>\n",
       "      <td>Kelly, Mr. James</td>\n",
       "      <td>male</td>\n",
       "      <td>34.5</td>\n",
       "      <td>0</td>\n",
       "      <td>0</td>\n",
       "      <td>330911</td>\n",
       "      <td>7.8292</td>\n",
       "      <td>NaN</td>\n",
       "      <td>Q</td>\n",
       "    </tr>\n",
       "    <tr>\n",
       "      <th>1</th>\n",
       "      <td>893</td>\n",
       "      <td>3</td>\n",
       "      <td>Wilkes, Mrs. James (Ellen Needs)</td>\n",
       "      <td>female</td>\n",
       "      <td>47.0</td>\n",
       "      <td>1</td>\n",
       "      <td>0</td>\n",
       "      <td>363272</td>\n",
       "      <td>7.0000</td>\n",
       "      <td>NaN</td>\n",
       "      <td>S</td>\n",
       "    </tr>\n",
       "    <tr>\n",
       "      <th>2</th>\n",
       "      <td>894</td>\n",
       "      <td>2</td>\n",
       "      <td>Myles, Mr. Thomas Francis</td>\n",
       "      <td>male</td>\n",
       "      <td>62.0</td>\n",
       "      <td>0</td>\n",
       "      <td>0</td>\n",
       "      <td>240276</td>\n",
       "      <td>9.6875</td>\n",
       "      <td>NaN</td>\n",
       "      <td>Q</td>\n",
       "    </tr>\n",
       "    <tr>\n",
       "      <th>3</th>\n",
       "      <td>895</td>\n",
       "      <td>3</td>\n",
       "      <td>Wirz, Mr. Albert</td>\n",
       "      <td>male</td>\n",
       "      <td>27.0</td>\n",
       "      <td>0</td>\n",
       "      <td>0</td>\n",
       "      <td>315154</td>\n",
       "      <td>8.6625</td>\n",
       "      <td>NaN</td>\n",
       "      <td>S</td>\n",
       "    </tr>\n",
       "    <tr>\n",
       "      <th>4</th>\n",
       "      <td>896</td>\n",
       "      <td>3</td>\n",
       "      <td>Hirvonen, Mrs. Alexander (Helga E Lindqvist)</td>\n",
       "      <td>female</td>\n",
       "      <td>22.0</td>\n",
       "      <td>1</td>\n",
       "      <td>1</td>\n",
       "      <td>3101298</td>\n",
       "      <td>12.2875</td>\n",
       "      <td>NaN</td>\n",
       "      <td>S</td>\n",
       "    </tr>\n",
       "  </tbody>\n",
       "</table>\n",
       "</div>"
      ],
      "text/plain": [
       "   PassengerId  Pclass                                          Name     Sex  \\\n",
       "0          892       3                              Kelly, Mr. James    male   \n",
       "1          893       3              Wilkes, Mrs. James (Ellen Needs)  female   \n",
       "2          894       2                     Myles, Mr. Thomas Francis    male   \n",
       "3          895       3                              Wirz, Mr. Albert    male   \n",
       "4          896       3  Hirvonen, Mrs. Alexander (Helga E Lindqvist)  female   \n",
       "\n",
       "    Age  SibSp  Parch   Ticket     Fare Cabin Embarked  \n",
       "0  34.5      0      0   330911   7.8292   NaN        Q  \n",
       "1  47.0      1      0   363272   7.0000   NaN        S  \n",
       "2  62.0      0      0   240276   9.6875   NaN        Q  \n",
       "3  27.0      0      0   315154   8.6625   NaN        S  \n",
       "4  22.0      1      1  3101298  12.2875   NaN        S  "
      ]
     },
     "execution_count": 2,
     "metadata": {},
     "output_type": "execute_result"
    }
   ],
   "source": [
    "mytestset = pd.read_csv('../input/titanic/test.csv')\n",
    "mytestset.head()\n",
    "# import and view preview of test set"
   ]
  },
  {
   "cell_type": "code",
   "execution_count": 3,
   "metadata": {
    "execution": {
     "iopub.execute_input": "2021-01-10T13:42:12.265965Z",
     "iopub.status.busy": "2021-01-10T13:42:12.265298Z",
     "iopub.status.idle": "2021-01-10T13:42:12.288684Z",
     "shell.execute_reply": "2021-01-10T13:42:12.289309Z"
    },
    "papermill": {
     "duration": 0.044826,
     "end_time": "2021-01-10T13:42:12.289457",
     "exception": false,
     "start_time": "2021-01-10T13:42:12.244631",
     "status": "completed"
    },
    "tags": []
   },
   "outputs": [
    {
     "name": "stdout",
     "output_type": "stream",
     "text": [
      "<class 'pandas.core.frame.DataFrame'>\n",
      "RangeIndex: 891 entries, 0 to 890\n",
      "Data columns (total 12 columns):\n",
      " #   Column       Non-Null Count  Dtype  \n",
      "---  ------       --------------  -----  \n",
      " 0   PassengerId  891 non-null    int64  \n",
      " 1   Survived     891 non-null    int64  \n",
      " 2   Pclass       891 non-null    int64  \n",
      " 3   Name         891 non-null    object \n",
      " 4   Sex          891 non-null    object \n",
      " 5   Age          714 non-null    float64\n",
      " 6   SibSp        891 non-null    int64  \n",
      " 7   Parch        891 non-null    int64  \n",
      " 8   Ticket       891 non-null    object \n",
      " 9   Fare         891 non-null    float64\n",
      " 10  Cabin        204 non-null    object \n",
      " 11  Embarked     889 non-null    object \n",
      "dtypes: float64(2), int64(5), object(5)\n",
      "memory usage: 83.7+ KB\n",
      "<class 'pandas.core.frame.DataFrame'>\n",
      "RangeIndex: 418 entries, 0 to 417\n",
      "Data columns (total 11 columns):\n",
      " #   Column       Non-Null Count  Dtype  \n",
      "---  ------       --------------  -----  \n",
      " 0   PassengerId  418 non-null    int64  \n",
      " 1   Pclass       418 non-null    int64  \n",
      " 2   Name         418 non-null    object \n",
      " 3   Sex          418 non-null    object \n",
      " 4   Age          332 non-null    float64\n",
      " 5   SibSp        418 non-null    int64  \n",
      " 6   Parch        418 non-null    int64  \n",
      " 7   Ticket       418 non-null    object \n",
      " 8   Fare         417 non-null    float64\n",
      " 9   Cabin        91 non-null     object \n",
      " 10  Embarked     418 non-null    object \n",
      "dtypes: float64(2), int64(4), object(5)\n",
      "memory usage: 36.0+ KB\n"
     ]
    }
   ],
   "source": [
    "mytrainset.info()\n",
    "mytestset.info()\n",
    "# view info of our datasets to analyze what attributes need preprocessing"
   ]
  },
  {
   "cell_type": "code",
   "execution_count": 4,
   "metadata": {
    "execution": {
     "iopub.execute_input": "2021-01-10T13:42:12.332957Z",
     "iopub.status.busy": "2021-01-10T13:42:12.332313Z",
     "iopub.status.idle": "2021-01-10T13:42:12.334836Z",
     "shell.execute_reply": "2021-01-10T13:42:12.335316Z"
    },
    "papermill": {
     "duration": 0.027103,
     "end_time": "2021-01-10T13:42:12.335466",
     "exception": false,
     "start_time": "2021-01-10T13:42:12.308363",
     "status": "completed"
    },
    "tags": []
   },
   "outputs": [],
   "source": [
    "ages_mean_train = mytrainset['Age'].mean()\n",
    "ages_mean_train = round(ages_mean_train)\n",
    "\n",
    "ages_mean_test = mytestset['Age'].mean()\n",
    "ages_mean_test = round(ages_mean_test)\n",
    "\n",
    "# calculate the means of ages for preprocessing"
   ]
  },
  {
   "cell_type": "code",
   "execution_count": 5,
   "metadata": {
    "execution": {
     "iopub.execute_input": "2021-01-10T13:42:12.387725Z",
     "iopub.status.busy": "2021-01-10T13:42:12.387029Z",
     "iopub.status.idle": "2021-01-10T13:42:12.408832Z",
     "shell.execute_reply": "2021-01-10T13:42:12.407176Z"
    },
    "papermill": {
     "duration": 0.055523,
     "end_time": "2021-01-10T13:42:12.408963",
     "exception": false,
     "start_time": "2021-01-10T13:42:12.353440",
     "status": "completed"
    },
    "tags": []
   },
   "outputs": [],
   "source": [
    "mytrainset['Age'] = mytrainset['Age'].replace(np.nan, ages_mean_train)\n",
    "mytrainset['Age'] = mytrainset['Age'].replace(np.nan, ages_mean_train)\n",
    "mytrainset = mytrainset.drop([\"Cabin\"], axis=1)\n",
    "mytrainset = mytrainset.drop([\"Name\"], axis=1)\n",
    "mytrainset = mytrainset.drop([\"Ticket\"], axis=1)\n",
    "mytrainset['Embarked'].replace({'C':1, 'Q':2, 'S':3},inplace=True)\n",
    "mytrainset['Embarked'] = mytrainset['Embarked'].fillna(0)\n",
    "mytrainset['Sex'].replace({'male':0, 'female':1},inplace=True)\n",
    "\n",
    "mytestset['Age'] = mytestset['Age'].replace(np.nan, ages_mean_test)\n",
    "mytestset = mytestset.drop([\"Cabin\"], axis=1)\n",
    "mytestset = mytestset.drop([\"Name\"], axis=1)\n",
    "mytestset = mytestset.drop([\"Ticket\"], axis=1)\n",
    "mytestset['Embarked'].replace({'C':1, 'Q':2, 'S':3},inplace=True)\n",
    "mytestset['Sex'].replace({'male':0, 'female':1},inplace=True)\n",
    "mytestset['Fare'] = mytestset['Fare'].fillna(mytestset['Fare'].mean())\n",
    "\n",
    "# Replacing null age values with the mean of ages and dropping features that do not matter.\n",
    "# Tranform our embark attribute into numbers to aid in preprocessing\n",
    "# Replace our sex values with numbers to also aid in preprocessing\n",
    "# Filled the one fare attribute which was null with 0."
   ]
  },
  {
   "cell_type": "code",
   "execution_count": 6,
   "metadata": {
    "execution": {
     "iopub.execute_input": "2021-01-10T13:42:12.467251Z",
     "iopub.status.busy": "2021-01-10T13:42:12.466534Z",
     "iopub.status.idle": "2021-01-10T13:42:12.472386Z",
     "shell.execute_reply": "2021-01-10T13:42:12.471770Z"
    },
    "papermill": {
     "duration": 0.045393,
     "end_time": "2021-01-10T13:42:12.472512",
     "exception": false,
     "start_time": "2021-01-10T13:42:12.427119",
     "status": "completed"
    },
    "tags": []
   },
   "outputs": [
    {
     "name": "stdout",
     "output_type": "stream",
     "text": [
      "<class 'pandas.core.frame.DataFrame'>\n",
      "RangeIndex: 891 entries, 0 to 890\n",
      "Data columns (total 9 columns):\n",
      " #   Column       Non-Null Count  Dtype  \n",
      "---  ------       --------------  -----  \n",
      " 0   PassengerId  891 non-null    int64  \n",
      " 1   Survived     891 non-null    int64  \n",
      " 2   Pclass       891 non-null    int64  \n",
      " 3   Sex          891 non-null    int64  \n",
      " 4   Age          891 non-null    float64\n",
      " 5   SibSp        891 non-null    int64  \n",
      " 6   Parch        891 non-null    int64  \n",
      " 7   Fare         891 non-null    float64\n",
      " 8   Embarked     891 non-null    float64\n",
      "dtypes: float64(3), int64(6)\n",
      "memory usage: 62.8 KB\n",
      "<class 'pandas.core.frame.DataFrame'>\n",
      "RangeIndex: 418 entries, 0 to 417\n",
      "Data columns (total 8 columns):\n",
      " #   Column       Non-Null Count  Dtype  \n",
      "---  ------       --------------  -----  \n",
      " 0   PassengerId  418 non-null    int64  \n",
      " 1   Pclass       418 non-null    int64  \n",
      " 2   Sex          418 non-null    int64  \n",
      " 3   Age          418 non-null    float64\n",
      " 4   SibSp        418 non-null    int64  \n",
      " 5   Parch        418 non-null    int64  \n",
      " 6   Fare         418 non-null    float64\n",
      " 7   Embarked     418 non-null    int64  \n",
      "dtypes: float64(2), int64(6)\n",
      "memory usage: 26.2 KB\n"
     ]
    }
   ],
   "source": [
    "mytrainset.info()\n",
    "mytestset.info()\n",
    "\n",
    "# Analyzing the datasets after preprocessing"
   ]
  },
  {
   "cell_type": "code",
   "execution_count": 7,
   "metadata": {
    "execution": {
     "iopub.execute_input": "2021-01-10T13:42:12.528078Z",
     "iopub.status.busy": "2021-01-10T13:42:12.526961Z",
     "iopub.status.idle": "2021-01-10T13:42:12.532168Z",
     "shell.execute_reply": "2021-01-10T13:42:12.531436Z"
    },
    "papermill": {
     "duration": 0.039463,
     "end_time": "2021-01-10T13:42:12.532316",
     "exception": false,
     "start_time": "2021-01-10T13:42:12.492853",
     "status": "completed"
    },
    "tags": []
   },
   "outputs": [
    {
     "data": {
      "text/html": [
       "<div>\n",
       "<style scoped>\n",
       "    .dataframe tbody tr th:only-of-type {\n",
       "        vertical-align: middle;\n",
       "    }\n",
       "\n",
       "    .dataframe tbody tr th {\n",
       "        vertical-align: top;\n",
       "    }\n",
       "\n",
       "    .dataframe thead th {\n",
       "        text-align: right;\n",
       "    }\n",
       "</style>\n",
       "<table border=\"1\" class=\"dataframe\">\n",
       "  <thead>\n",
       "    <tr style=\"text-align: right;\">\n",
       "      <th></th>\n",
       "      <th>PassengerId</th>\n",
       "      <th>Survived</th>\n",
       "      <th>Pclass</th>\n",
       "      <th>Sex</th>\n",
       "      <th>Age</th>\n",
       "      <th>SibSp</th>\n",
       "      <th>Parch</th>\n",
       "      <th>Fare</th>\n",
       "      <th>Embarked</th>\n",
       "    </tr>\n",
       "  </thead>\n",
       "  <tbody>\n",
       "    <tr>\n",
       "      <th>0</th>\n",
       "      <td>1</td>\n",
       "      <td>0</td>\n",
       "      <td>3</td>\n",
       "      <td>0</td>\n",
       "      <td>22.0</td>\n",
       "      <td>1</td>\n",
       "      <td>0</td>\n",
       "      <td>7.2500</td>\n",
       "      <td>3.0</td>\n",
       "    </tr>\n",
       "    <tr>\n",
       "      <th>1</th>\n",
       "      <td>2</td>\n",
       "      <td>1</td>\n",
       "      <td>1</td>\n",
       "      <td>1</td>\n",
       "      <td>38.0</td>\n",
       "      <td>1</td>\n",
       "      <td>0</td>\n",
       "      <td>71.2833</td>\n",
       "      <td>1.0</td>\n",
       "    </tr>\n",
       "    <tr>\n",
       "      <th>2</th>\n",
       "      <td>3</td>\n",
       "      <td>1</td>\n",
       "      <td>3</td>\n",
       "      <td>1</td>\n",
       "      <td>26.0</td>\n",
       "      <td>0</td>\n",
       "      <td>0</td>\n",
       "      <td>7.9250</td>\n",
       "      <td>3.0</td>\n",
       "    </tr>\n",
       "    <tr>\n",
       "      <th>3</th>\n",
       "      <td>4</td>\n",
       "      <td>1</td>\n",
       "      <td>1</td>\n",
       "      <td>1</td>\n",
       "      <td>35.0</td>\n",
       "      <td>1</td>\n",
       "      <td>0</td>\n",
       "      <td>53.1000</td>\n",
       "      <td>3.0</td>\n",
       "    </tr>\n",
       "    <tr>\n",
       "      <th>4</th>\n",
       "      <td>5</td>\n",
       "      <td>0</td>\n",
       "      <td>3</td>\n",
       "      <td>0</td>\n",
       "      <td>35.0</td>\n",
       "      <td>0</td>\n",
       "      <td>0</td>\n",
       "      <td>8.0500</td>\n",
       "      <td>3.0</td>\n",
       "    </tr>\n",
       "  </tbody>\n",
       "</table>\n",
       "</div>"
      ],
      "text/plain": [
       "   PassengerId  Survived  Pclass  Sex   Age  SibSp  Parch     Fare  Embarked\n",
       "0            1         0       3    0  22.0      1      0   7.2500       3.0\n",
       "1            2         1       1    1  38.0      1      0  71.2833       1.0\n",
       "2            3         1       3    1  26.0      0      0   7.9250       3.0\n",
       "3            4         1       1    1  35.0      1      0  53.1000       3.0\n",
       "4            5         0       3    0  35.0      0      0   8.0500       3.0"
      ]
     },
     "execution_count": 7,
     "metadata": {},
     "output_type": "execute_result"
    }
   ],
   "source": [
    "mytrainset.head()\n",
    "\n",
    "# previewing after preprocessing"
   ]
  },
  {
   "cell_type": "code",
   "execution_count": 8,
   "metadata": {
    "execution": {
     "iopub.execute_input": "2021-01-10T13:42:12.582693Z",
     "iopub.status.busy": "2021-01-10T13:42:12.581261Z",
     "iopub.status.idle": "2021-01-10T13:42:12.591772Z",
     "shell.execute_reply": "2021-01-10T13:42:12.591021Z"
    },
    "papermill": {
     "duration": 0.039133,
     "end_time": "2021-01-10T13:42:12.591894",
     "exception": false,
     "start_time": "2021-01-10T13:42:12.552761",
     "status": "completed"
    },
    "tags": []
   },
   "outputs": [
    {
     "data": {
      "text/html": [
       "<div>\n",
       "<style scoped>\n",
       "    .dataframe tbody tr th:only-of-type {\n",
       "        vertical-align: middle;\n",
       "    }\n",
       "\n",
       "    .dataframe tbody tr th {\n",
       "        vertical-align: top;\n",
       "    }\n",
       "\n",
       "    .dataframe thead th {\n",
       "        text-align: right;\n",
       "    }\n",
       "</style>\n",
       "<table border=\"1\" class=\"dataframe\">\n",
       "  <thead>\n",
       "    <tr style=\"text-align: right;\">\n",
       "      <th></th>\n",
       "      <th>PassengerId</th>\n",
       "      <th>Pclass</th>\n",
       "      <th>Sex</th>\n",
       "      <th>Age</th>\n",
       "      <th>SibSp</th>\n",
       "      <th>Parch</th>\n",
       "      <th>Fare</th>\n",
       "      <th>Embarked</th>\n",
       "    </tr>\n",
       "  </thead>\n",
       "  <tbody>\n",
       "    <tr>\n",
       "      <th>0</th>\n",
       "      <td>892</td>\n",
       "      <td>3</td>\n",
       "      <td>0</td>\n",
       "      <td>34.5</td>\n",
       "      <td>0</td>\n",
       "      <td>0</td>\n",
       "      <td>7.8292</td>\n",
       "      <td>2</td>\n",
       "    </tr>\n",
       "    <tr>\n",
       "      <th>1</th>\n",
       "      <td>893</td>\n",
       "      <td>3</td>\n",
       "      <td>1</td>\n",
       "      <td>47.0</td>\n",
       "      <td>1</td>\n",
       "      <td>0</td>\n",
       "      <td>7.0000</td>\n",
       "      <td>3</td>\n",
       "    </tr>\n",
       "    <tr>\n",
       "      <th>2</th>\n",
       "      <td>894</td>\n",
       "      <td>2</td>\n",
       "      <td>0</td>\n",
       "      <td>62.0</td>\n",
       "      <td>0</td>\n",
       "      <td>0</td>\n",
       "      <td>9.6875</td>\n",
       "      <td>2</td>\n",
       "    </tr>\n",
       "    <tr>\n",
       "      <th>3</th>\n",
       "      <td>895</td>\n",
       "      <td>3</td>\n",
       "      <td>0</td>\n",
       "      <td>27.0</td>\n",
       "      <td>0</td>\n",
       "      <td>0</td>\n",
       "      <td>8.6625</td>\n",
       "      <td>3</td>\n",
       "    </tr>\n",
       "    <tr>\n",
       "      <th>4</th>\n",
       "      <td>896</td>\n",
       "      <td>3</td>\n",
       "      <td>1</td>\n",
       "      <td>22.0</td>\n",
       "      <td>1</td>\n",
       "      <td>1</td>\n",
       "      <td>12.2875</td>\n",
       "      <td>3</td>\n",
       "    </tr>\n",
       "  </tbody>\n",
       "</table>\n",
       "</div>"
      ],
      "text/plain": [
       "   PassengerId  Pclass  Sex   Age  SibSp  Parch     Fare  Embarked\n",
       "0          892       3    0  34.5      0      0   7.8292         2\n",
       "1          893       3    1  47.0      1      0   7.0000         3\n",
       "2          894       2    0  62.0      0      0   9.6875         2\n",
       "3          895       3    0  27.0      0      0   8.6625         3\n",
       "4          896       3    1  22.0      1      1  12.2875         3"
      ]
     },
     "execution_count": 8,
     "metadata": {},
     "output_type": "execute_result"
    }
   ],
   "source": [
    "mytestset.head()\n",
    "\n",
    "# previewing after preprocessing"
   ]
  },
  {
   "cell_type": "code",
   "execution_count": 9,
   "metadata": {
    "execution": {
     "iopub.execute_input": "2021-01-10T13:42:12.638583Z",
     "iopub.status.busy": "2021-01-10T13:42:12.637369Z",
     "iopub.status.idle": "2021-01-10T13:42:14.149921Z",
     "shell.execute_reply": "2021-01-10T13:42:14.149207Z"
    },
    "papermill": {
     "duration": 1.536693,
     "end_time": "2021-01-10T13:42:14.150051",
     "exception": false,
     "start_time": "2021-01-10T13:42:12.613358",
     "status": "completed"
    },
    "tags": []
   },
   "outputs": [],
   "source": [
    "from sklearn.ensemble import RandomForestClassifier \n",
    "from sklearn.model_selection import train_test_split\n",
    "# filtered our prediction attribute\n",
    "y = mytrainset['Survived']\n",
    "# defined our features \n",
    "features = [\"Pclass\", \"Age\", \"Sex\", \"SibSp\", \"Parch\", \"Embarked\"]\n",
    "X = mytrainset[features]\n",
    "# split our training set into a training set and a validation set 70% 30% split\n",
    "X_train, X_test, Y_train, Y_test = train_test_split(X, y, test_size=0.3, random_state=1) "
   ]
  },
  {
   "cell_type": "code",
   "execution_count": 10,
   "metadata": {
    "execution": {
     "iopub.execute_input": "2021-01-10T13:42:14.199301Z",
     "iopub.status.busy": "2021-01-10T13:42:14.198560Z",
     "iopub.status.idle": "2021-01-10T13:42:14.644726Z",
     "shell.execute_reply": "2021-01-10T13:42:14.644098Z"
    },
    "papermill": {
     "duration": 0.474868,
     "end_time": "2021-01-10T13:42:14.644842",
     "exception": false,
     "start_time": "2021-01-10T13:42:14.169974",
     "status": "completed"
    },
    "tags": []
   },
   "outputs": [],
   "source": [
    "# Using random forest classifier \n",
    "model= RandomForestClassifier(n_estimators=200,max_depth=5, random_state=1)\n",
    "model = model.fit(X_train, Y_train)\n",
    "predictions = model.predict(X_test)"
   ]
  },
  {
   "cell_type": "code",
   "execution_count": 11,
   "metadata": {
    "execution": {
     "iopub.execute_input": "2021-01-10T13:42:14.692713Z",
     "iopub.status.busy": "2021-01-10T13:42:14.691386Z",
     "iopub.status.idle": "2021-01-10T13:42:14.696485Z",
     "shell.execute_reply": "2021-01-10T13:42:14.695898Z"
    },
    "papermill": {
     "duration": 0.03161,
     "end_time": "2021-01-10T13:42:14.696602",
     "exception": false,
     "start_time": "2021-01-10T13:42:14.664992",
     "status": "completed"
    },
    "scrolled": false,
    "tags": []
   },
   "outputs": [
    {
     "data": {
      "text/plain": [
       "0.7798507462686567"
      ]
     },
     "execution_count": 11,
     "metadata": {},
     "output_type": "execute_result"
    }
   ],
   "source": [
    "from sklearn.metrics import accuracy_score\n",
    "accuracy_score(predictions, Y_test)\n",
    "# ignore this "
   ]
  },
  {
   "cell_type": "code",
   "execution_count": 12,
   "metadata": {
    "execution": {
     "iopub.execute_input": "2021-01-10T13:42:14.741559Z",
     "iopub.status.busy": "2021-01-10T13:42:14.740581Z",
     "iopub.status.idle": "2021-01-10T13:42:14.758001Z",
     "shell.execute_reply": "2021-01-10T13:42:14.758537Z"
    },
    "papermill": {
     "duration": 0.041695,
     "end_time": "2021-01-10T13:42:14.758695",
     "exception": false,
     "start_time": "2021-01-10T13:42:14.717000",
     "status": "completed"
    },
    "tags": []
   },
   "outputs": [
    {
     "data": {
      "text/plain": [
       "0.7649253731343284"
      ]
     },
     "execution_count": 12,
     "metadata": {},
     "output_type": "execute_result"
    }
   ],
   "source": [
    "from sklearn.naive_bayes import GaussianNB\n",
    "gnb = GaussianNB()\n",
    "NB_model_predictions = gnb.fit(X_train, Y_train).predict(X_test)\n",
    "accuracy_score(NB_model_predictions, Y_test)\n",
    "# Using Naive Bayses Classsifier"
   ]
  },
  {
   "cell_type": "code",
   "execution_count": 13,
   "metadata": {
    "execution": {
     "iopub.execute_input": "2021-01-10T13:42:14.811572Z",
     "iopub.status.busy": "2021-01-10T13:42:14.810736Z",
     "iopub.status.idle": "2021-01-10T13:42:14.820743Z",
     "shell.execute_reply": "2021-01-10T13:42:14.820025Z"
    },
    "papermill": {
     "duration": 0.041086,
     "end_time": "2021-01-10T13:42:14.820871",
     "exception": false,
     "start_time": "2021-01-10T13:42:14.779785",
     "status": "completed"
    },
    "tags": []
   },
   "outputs": [
    {
     "data": {
      "text/plain": [
       "0.75"
      ]
     },
     "execution_count": 13,
     "metadata": {},
     "output_type": "execute_result"
    }
   ],
   "source": [
    "from sklearn.tree import DecisionTreeClassifier\n",
    "from sklearn import metrics\n",
    "\n",
    "decisiontreeModel = DecisionTreeClassifier()\n",
    "\n",
    "decisiontreeModel = decisiontreeModel.fit(X_train, Y_train)\n",
    "\n",
    "decisiontreePredicition = decisiontreeModel.predict(X_test)\n",
    "\n",
    "accuracy_score(decisiontreePredicition, Y_test)\n",
    "\n",
    "# Using decision trees classifier"
   ]
  },
  {
   "cell_type": "code",
   "execution_count": 14,
   "metadata": {
    "execution": {
     "iopub.execute_input": "2021-01-10T13:42:14.873489Z",
     "iopub.status.busy": "2021-01-10T13:42:14.872760Z",
     "iopub.status.idle": "2021-01-10T13:42:14.897333Z",
     "shell.execute_reply": "2021-01-10T13:42:14.896662Z"
    },
    "papermill": {
     "duration": 0.054943,
     "end_time": "2021-01-10T13:42:14.897448",
     "exception": false,
     "start_time": "2021-01-10T13:42:14.842505",
     "status": "completed"
    },
    "tags": []
   },
   "outputs": [
    {
     "data": {
      "text/plain": [
       "0.7425373134328358"
      ]
     },
     "execution_count": 14,
     "metadata": {},
     "output_type": "execute_result"
    }
   ],
   "source": [
    "from sklearn.metrics import confusion_matrix\n",
    "from sklearn.neighbors import KNeighborsClassifier\n",
    "\n",
    "knn = KNeighborsClassifier(n_neighbors=5, metric='euclidean')\n",
    "\n",
    "knn.fit(X_train, Y_train)\n",
    "\n",
    "knnPredictions = knn.predict(X_test)\n",
    "# confusion_matrix(y, knn.predict(X_train))\n",
    "\n",
    "accuracy_score(Y_test, knnPredictions)\n",
    "\n",
    "# Using K nearest neighnour classsifier"
   ]
  },
  {
   "cell_type": "code",
   "execution_count": 15,
   "metadata": {
    "execution": {
     "iopub.execute_input": "2021-01-10T13:42:14.959658Z",
     "iopub.status.busy": "2021-01-10T13:42:14.950213Z",
     "iopub.status.idle": "2021-01-10T13:42:15.034333Z",
     "shell.execute_reply": "2021-01-10T13:42:15.033494Z"
    },
    "papermill": {
     "duration": 0.114831,
     "end_time": "2021-01-10T13:42:15.034557",
     "exception": false,
     "start_time": "2021-01-10T13:42:14.919726",
     "status": "completed"
    },
    "tags": []
   },
   "outputs": [
    {
     "data": {
      "text/plain": [
       "0.7761194029850746"
      ]
     },
     "execution_count": 15,
     "metadata": {},
     "output_type": "execute_result"
    }
   ],
   "source": [
    "from sklearn.linear_model import LogisticRegression\n",
    "LRModel = LogisticRegression(max_iter = 200)\n",
    "LRModel.fit(X_train, Y_train)\n",
    "LRModel_Prediction = LRModel.predict(X_test)\n",
    "\n",
    "accuracy_score(Y_test, LRModel_Prediction)\n",
    "\n",
    "# using logistic regression classifier"
   ]
  },
  {
   "cell_type": "code",
   "execution_count": 16,
   "metadata": {
    "execution": {
     "iopub.execute_input": "2021-01-10T13:42:15.092652Z",
     "iopub.status.busy": "2021-01-10T13:42:15.091523Z",
     "iopub.status.idle": "2021-01-10T13:42:19.559526Z",
     "shell.execute_reply": "2021-01-10T13:42:19.560095Z"
    },
    "papermill": {
     "duration": 4.501134,
     "end_time": "2021-01-10T13:42:19.560294",
     "exception": false,
     "start_time": "2021-01-10T13:42:15.059160",
     "status": "completed"
    },
    "tags": []
   },
   "outputs": [
    {
     "name": "stdout",
     "output_type": "stream",
     "text": [
      "0.82 accuracy\n"
     ]
    }
   ],
   "source": [
    "# Using k fold cross validation to analyse the accuracy of our models\n",
    "from sklearn.model_selection import cross_val_score\n",
    "from sklearn.model_selection import KFold\n",
    "cv = KFold(n_splits=10, random_state=1, shuffle=True)\n",
    "scores = cross_val_score(model, X, y,  scoring='accuracy', cv=cv, n_jobs=-1)\n",
    "print(\"%0.2f accuracy\" % (scores.mean()))"
   ]
  },
  {
   "cell_type": "code",
   "execution_count": 17,
   "metadata": {
    "execution": {
     "iopub.execute_input": "2021-01-10T13:42:19.614585Z",
     "iopub.status.busy": "2021-01-10T13:42:19.613877Z",
     "iopub.status.idle": "2021-01-10T13:42:19.678251Z",
     "shell.execute_reply": "2021-01-10T13:42:19.678903Z"
    },
    "papermill": {
     "duration": 0.094931,
     "end_time": "2021-01-10T13:42:19.679062",
     "exception": false,
     "start_time": "2021-01-10T13:42:19.584131",
     "status": "completed"
    },
    "tags": []
   },
   "outputs": [
    {
     "name": "stdout",
     "output_type": "stream",
     "text": [
      "0.79 accuracy\n"
     ]
    }
   ],
   "source": [
    "scores = cross_val_score(gnb, X, y, scoring='accuracy', cv=cv, n_jobs=-1)\n",
    "scores\n",
    "print(\"%0.2f accuracy\" % (scores.mean()))"
   ]
  },
  {
   "cell_type": "code",
   "execution_count": 18,
   "metadata": {
    "execution": {
     "iopub.execute_input": "2021-01-10T13:42:19.732927Z",
     "iopub.status.busy": "2021-01-10T13:42:19.732293Z",
     "iopub.status.idle": "2021-01-10T13:42:19.790920Z",
     "shell.execute_reply": "2021-01-10T13:42:19.790021Z"
    },
    "papermill": {
     "duration": 0.088031,
     "end_time": "2021-01-10T13:42:19.791046",
     "exception": false,
     "start_time": "2021-01-10T13:42:19.703015",
     "status": "completed"
    },
    "tags": []
   },
   "outputs": [
    {
     "name": "stdout",
     "output_type": "stream",
     "text": [
      "0.79 accuracy\n"
     ]
    }
   ],
   "source": [
    "scores = cross_val_score(decisiontreeModel, X, y, scoring='accuracy', cv=cv, n_jobs=-1)\n",
    "scores\n",
    "print(\"%0.2f accuracy\" % (scores.mean()))"
   ]
  },
  {
   "cell_type": "code",
   "execution_count": 19,
   "metadata": {
    "execution": {
     "iopub.execute_input": "2021-01-10T13:42:19.845607Z",
     "iopub.status.busy": "2021-01-10T13:42:19.844790Z",
     "iopub.status.idle": "2021-01-10T13:42:19.929947Z",
     "shell.execute_reply": "2021-01-10T13:42:19.929266Z"
    },
    "papermill": {
     "duration": 0.115163,
     "end_time": "2021-01-10T13:42:19.930056",
     "exception": false,
     "start_time": "2021-01-10T13:42:19.814893",
     "status": "completed"
    },
    "tags": []
   },
   "outputs": [
    {
     "name": "stdout",
     "output_type": "stream",
     "text": [
      "0.77 accuracy\n"
     ]
    }
   ],
   "source": [
    "scores = cross_val_score(knn, X, y, scoring='accuracy', cv=cv, n_jobs=-1)\n",
    "scores\n",
    "print(\"%0.2f accuracy\" % (scores.mean()))"
   ]
  },
  {
   "cell_type": "code",
   "execution_count": 20,
   "metadata": {
    "execution": {
     "iopub.execute_input": "2021-01-10T13:42:19.985815Z",
     "iopub.status.busy": "2021-01-10T13:42:19.984890Z",
     "iopub.status.idle": "2021-01-10T13:42:20.145440Z",
     "shell.execute_reply": "2021-01-10T13:42:20.144750Z"
    },
    "papermill": {
     "duration": 0.191025,
     "end_time": "2021-01-10T13:42:20.145568",
     "exception": false,
     "start_time": "2021-01-10T13:42:19.954543",
     "status": "completed"
    },
    "tags": []
   },
   "outputs": [
    {
     "name": "stdout",
     "output_type": "stream",
     "text": [
      "0.80 accuracy\n"
     ]
    }
   ],
   "source": [
    "scores = cross_val_score(LRModel, X, y, scoring='accuracy', cv=cv, n_jobs=-1)\n",
    "scores\n",
    "print(\"%0.2f accuracy\" % (scores.mean()))"
   ]
  },
  {
   "cell_type": "code",
   "execution_count": 21,
   "metadata": {
    "execution": {
     "iopub.execute_input": "2021-01-10T13:42:20.208042Z",
     "iopub.status.busy": "2021-01-10T13:42:20.206739Z",
     "iopub.status.idle": "2021-01-10T13:42:20.239532Z",
     "shell.execute_reply": "2021-01-10T13:42:20.240056Z"
    },
    "papermill": {
     "duration": 0.069786,
     "end_time": "2021-01-10T13:42:20.240233",
     "exception": false,
     "start_time": "2021-01-10T13:42:20.170447",
     "status": "completed"
    },
    "tags": []
   },
   "outputs": [],
   "source": [
    "testing = mytestset[features]\n",
    "testPredicitons = model.predict(testing)"
   ]
  },
  {
   "cell_type": "code",
   "execution_count": 22,
   "metadata": {
    "execution": {
     "iopub.execute_input": "2021-01-10T13:42:20.303566Z",
     "iopub.status.busy": "2021-01-10T13:42:20.302736Z",
     "iopub.status.idle": "2021-01-10T13:42:20.306758Z",
     "shell.execute_reply": "2021-01-10T13:42:20.306151Z"
    },
    "papermill": {
     "duration": 0.039045,
     "end_time": "2021-01-10T13:42:20.306884",
     "exception": false,
     "start_time": "2021-01-10T13:42:20.267839",
     "status": "completed"
    },
    "tags": []
   },
   "outputs": [
    {
     "data": {
      "text/plain": [
       "array([0, 0, 0, 0, 0, 0, 1, 0, 1, 0, 0, 0, 1, 0, 1, 1, 0, 0, 0, 0, 0, 1,\n",
       "       1, 0, 1, 0, 1, 0, 0, 0, 0, 0, 0, 0, 0, 0, 0, 0, 0, 0, 0, 0, 0, 1,\n",
       "       1, 0, 0, 0, 1, 0, 0, 0, 1, 1, 0, 0, 0, 0, 0, 1, 0, 0, 0, 1, 0, 1,\n",
       "       1, 0, 0, 1, 1, 0, 0, 0, 1, 0, 0, 1, 0, 1, 1, 0, 0, 0, 0, 0, 1, 0,\n",
       "       1, 1, 0, 0, 1, 0, 0, 0, 1, 0, 0, 0, 1, 0, 0, 0, 1, 0, 0, 0, 0, 0,\n",
       "       0, 1, 1, 1, 1, 0, 0, 1, 0, 1, 1, 0, 1, 0, 0, 1, 0, 1, 0, 0, 0, 0,\n",
       "       0, 0, 0, 0, 0, 0, 0, 0, 0, 1, 0, 0, 0, 0, 0, 0, 0, 0, 1, 0, 0, 0,\n",
       "       0, 0, 1, 0, 0, 0, 1, 0, 1, 0, 0, 0, 0, 0, 1, 0, 0, 0, 0, 0, 0, 1,\n",
       "       1, 0, 1, 1, 0, 0, 1, 0, 1, 0, 1, 0, 0, 0, 0, 0, 0, 0, 1, 0, 1, 0,\n",
       "       0, 0, 1, 1, 0, 1, 0, 0, 1, 0, 1, 0, 0, 0, 0, 1, 0, 0, 1, 0, 1, 0,\n",
       "       1, 0, 1, 0, 1, 1, 0, 1, 0, 0, 0, 1, 0, 0, 0, 0, 0, 0, 1, 1, 1, 1,\n",
       "       0, 0, 0, 0, 1, 0, 1, 1, 1, 0, 0, 0, 0, 0, 0, 0, 1, 0, 0, 0, 1, 1,\n",
       "       0, 0, 0, 0, 0, 0, 0, 0, 1, 1, 0, 1, 0, 0, 0, 0, 0, 1, 1, 1, 1, 0,\n",
       "       0, 0, 0, 0, 0, 1, 0, 0, 0, 0, 1, 0, 0, 0, 0, 0, 0, 0, 1, 1, 0, 1,\n",
       "       0, 0, 0, 0, 0, 1, 1, 1, 0, 0, 0, 0, 0, 0, 0, 0, 1, 0, 1, 0, 0, 0,\n",
       "       1, 0, 0, 1, 0, 0, 0, 0, 0, 0, 0, 0, 0, 1, 0, 0, 0, 1, 0, 1, 1, 0,\n",
       "       0, 0, 1, 0, 1, 0, 0, 0, 0, 1, 1, 0, 1, 0, 0, 0, 1, 0, 0, 1, 0, 0,\n",
       "       1, 1, 0, 0, 0, 0, 0, 0, 0, 0, 0, 1, 0, 0, 0, 0, 0, 1, 0, 0, 0, 1,\n",
       "       0, 1, 0, 0, 1, 0, 1, 0, 0, 0, 0, 0, 1, 1, 1, 1, 0, 0, 1, 0, 0, 0])"
      ]
     },
     "execution_count": 22,
     "metadata": {},
     "output_type": "execute_result"
    }
   ],
   "source": [
    "testPredicitons"
   ]
  },
  {
   "cell_type": "code",
   "execution_count": 23,
   "metadata": {
    "execution": {
     "iopub.execute_input": "2021-01-10T13:42:20.367956Z",
     "iopub.status.busy": "2021-01-10T13:42:20.367304Z",
     "iopub.status.idle": "2021-01-10T13:42:20.761772Z",
     "shell.execute_reply": "2021-01-10T13:42:20.761084Z"
    },
    "papermill": {
     "duration": 0.4259,
     "end_time": "2021-01-10T13:42:20.761882",
     "exception": false,
     "start_time": "2021-01-10T13:42:20.335982",
     "status": "completed"
    },
    "tags": []
   },
   "outputs": [],
   "source": [
    "testPredicitons = {'PassengerId':mytestset[\"PassengerId\"], \"Survived\": testPredicitons}\n",
    "pd.DataFrame(testPredicitons).to_csv(\"predictions.csv\", index = False)"
   ]
  }
 ],
 "metadata": {
  "kernelspec": {
   "display_name": "Python 3",
   "language": "python",
   "name": "python3"
  },
  "language_info": {
   "codemirror_mode": {
    "name": "ipython",
    "version": 3
   },
   "file_extension": ".py",
   "mimetype": "text/x-python",
   "name": "python",
   "nbconvert_exporter": "python",
   "pygments_lexer": "ipython3",
   "version": "3.7.6"
  },
  "papermill": {
   "duration": 14.103321,
   "end_time": "2021-01-10T13:42:20.898047",
   "environment_variables": {},
   "exception": null,
   "input_path": "__notebook__.ipynb",
   "output_path": "__notebook__.ipynb",
   "parameters": {},
   "start_time": "2021-01-10T13:42:06.794726",
   "version": "2.1.0"
  }
 },
 "nbformat": 4,
 "nbformat_minor": 4
}
